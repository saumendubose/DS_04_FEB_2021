{
 "cells": [
  {
   "cell_type": "markdown",
   "metadata": {},
   "source": [
    "## Notebook Demo"
   ]
  },
  {
   "cell_type": "raw",
   "metadata": {},
   "source": [
    "This notebook is to demo how to use features of Jupyter Lab"
   ]
  },
  {
   "cell_type": "code",
   "execution_count": 32,
   "metadata": {},
   "outputs": [
    {
     "name": "stdout",
     "output_type": "stream",
     "text": [
      "Welcome to Notebook\n"
     ]
    }
   ],
   "source": [
    "print(\"Welcome to Notebook\")"
   ]
  },
  {
   "cell_type": "code",
   "execution_count": 33,
   "metadata": {},
   "outputs": [
    {
     "name": "stdout",
     "output_type": "stream",
     "text": [
      "1 4 9 16 25 36 49 64 81 "
     ]
    }
   ],
   "source": [
    "for n in range(1,10):\n",
    "     print(n*n, end =  ' ')"
   ]
  },
  {
   "cell_type": "markdown",
   "metadata": {},
   "source": [
    "<a href=\"http://www.srikanthtechnologies.com\">Srikanth Technologies</a>"
   ]
  },
  {
   "cell_type": "code",
   "execution_count": 34,
   "metadata": {},
   "outputs": [],
   "source": [
    "import datetime"
   ]
  },
  {
   "cell_type": "code",
   "execution_count": 35,
   "metadata": {},
   "outputs": [],
   "source": [
    "cd = datetime.datetime.now()"
   ]
  },
  {
   "cell_type": "code",
   "execution_count": 36,
   "metadata": {},
   "outputs": [
    {
     "data": {
      "text/plain": [
       "datetime.datetime(2021, 2, 9, 20, 50, 16, 237903)"
      ]
     },
     "execution_count": 36,
     "metadata": {},
     "output_type": "execute_result"
    }
   ],
   "source": [
    "cd"
   ]
  },
  {
   "cell_type": "code",
   "execution_count": 37,
   "metadata": {},
   "outputs": [
    {
     "data": {
      "text/plain": [
       "2"
      ]
     },
     "execution_count": 37,
     "metadata": {},
     "output_type": "execute_result"
    }
   ],
   "source": [
    "cd.month"
   ]
  },
  {
   "cell_type": "code",
   "execution_count": 38,
   "metadata": {},
   "outputs": [
    {
     "data": {
      "text/plain": [
       "\u001b[1;31mDocstring:\u001b[0m string, format -> new datetime parsed from a string (like time.strptime()).\n",
       "\u001b[1;31mType:\u001b[0m      builtin_function_or_method\n"
      ]
     },
     "metadata": {},
     "output_type": "display_data"
    }
   ],
   "source": [
    "cd.strptime?"
   ]
  },
  {
   "cell_type": "markdown",
   "metadata": {},
   "source": [
    "<a id=\"markdown\"></a>\n",
    "\n",
    "**Bold String**\n",
    "\n",
    "_Italic String_\n",
    "\n",
    "`Monospace Font`"
   ]
  },
  {
   "cell_type": "markdown",
   "metadata": {},
   "source": [
    "- Numpy\n",
    "- Pandas\n",
    "- Matplotlib"
   ]
  },
  {
   "cell_type": "markdown",
   "metadata": {},
   "source": [
    "1. Classification\n",
    "1. Regression\n",
    "1. Clustering"
   ]
  },
  {
   "cell_type": "markdown",
   "metadata": {},
   "source": [
    "***"
   ]
  },
  {
   "cell_type": "markdown",
   "metadata": {},
   "source": [
    "[MarkDown](#markdown)"
   ]
  },
  {
   "cell_type": "markdown",
   "metadata": {},
   "source": [
    "<div class=\"alert alert-block alert-success\">\n",
    "This is success box!\n",
    "</div>\n",
    "\n",
    "<div class=\"alert alert-block alert-danger\">\n",
    "This is dangerous box!\n",
    "</div>"
   ]
  },
  {
   "cell_type": "markdown",
   "metadata": {},
   "source": [
    "<img src=\"http://www.srikanthtechnologies.com/logo.jpg\"/>"
   ]
  },
  {
   "cell_type": "markdown",
   "metadata": {},
   "source": [
    "## Shell Commands"
   ]
  },
  {
   "cell_type": "code",
   "execution_count": 39,
   "metadata": {},
   "outputs": [
    {
     "name": "stdout",
     "output_type": "stream",
     "text": [
      " Volume in drive D is Software\n",
      " Volume Serial Number is FCE9-76E2\n",
      "\n",
      " Directory of D:\\classroom\\feb4\n",
      "\n",
      "09-02-2021  20:49    <DIR>          .\n",
      "09-02-2021  20:49    <DIR>          ..\n",
      "09-02-2021  16:52             1,970 .gitignore\n",
      "09-02-2021  20:24    <DIR>          .ipynb_checkpoints\n",
      "12-08-2020  19:58                13 j.bat\n",
      "09-02-2021  20:34                22 libraries.txt\n",
      "09-02-2021  20:49            17,755 notebook_demo.ipynb\n",
      "09-02-2021  20:24                51 topics.txt\n",
      "09-02-2021  16:51               171 upload.bat\n",
      "               6 File(s)         19,982 bytes\n",
      "               3 Dir(s)  132,140,953,600 bytes free\n"
     ]
    }
   ],
   "source": [
    "!dir"
   ]
  },
  {
   "cell_type": "code",
   "execution_count": 40,
   "metadata": {},
   "outputs": [
    {
     "name": "stdout",
     "output_type": "stream",
     "text": [
      "Statistics\n",
      "Numpy\n",
      "Pandas\n",
      "Matplotlib\n",
      "Seaborn\n",
      "SkLearn\n"
     ]
    }
   ],
   "source": [
    "!type topics.txt"
   ]
  },
  {
   "cell_type": "code",
   "execution_count": 41,
   "metadata": {},
   "outputs": [],
   "source": [
    "topics = !type topics.txt"
   ]
  },
  {
   "cell_type": "code",
   "execution_count": 42,
   "metadata": {},
   "outputs": [
    {
     "data": {
      "text/plain": [
       "IPython.utils.text.SList"
      ]
     },
     "execution_count": 42,
     "metadata": {},
     "output_type": "execute_result"
    }
   ],
   "source": [
    "type(topics)"
   ]
  },
  {
   "cell_type": "code",
   "execution_count": 43,
   "metadata": {},
   "outputs": [
    {
     "data": {
      "text/plain": [
       "['Statistics', 'Numpy', 'Pandas', 'Matplotlib', 'Seaborn', 'SkLearn']"
      ]
     },
     "execution_count": 43,
     "metadata": {},
     "output_type": "execute_result"
    }
   ],
   "source": [
    "topics"
   ]
  },
  {
   "cell_type": "code",
   "execution_count": 44,
   "metadata": {},
   "outputs": [
    {
     "name": "stdout",
     "output_type": "stream",
     "text": [
      "Statistics\n",
      "Numpy\n",
      "Pandas\n",
      "Matplotlib\n",
      "Seaborn\n",
      "SkLearn\n"
     ]
    }
   ],
   "source": [
    "filename = 'topics.txt'\n",
    "!type {filename}"
   ]
  },
  {
   "cell_type": "code",
   "execution_count": 45,
   "metadata": {},
   "outputs": [
    {
     "data": {
      "text/plain": [
       "'D:\\\\classroom\\\\feb4'"
      ]
     },
     "execution_count": 45,
     "metadata": {},
     "output_type": "execute_result"
    }
   ],
   "source": [
    "%pwd"
   ]
  },
  {
   "cell_type": "code",
   "execution_count": 46,
   "metadata": {},
   "outputs": [
    {
     "name": "stdout",
     "output_type": "stream",
     "text": [
      "[MarkDown](#markdown)\n",
      "[MarkDown](#markdown)\n",
      "<img src=\"http://www.srikanthtechnologies.com/logo.jpg\"/>\n",
      "!dir\n",
      "!ls\n",
      "!dir\n",
      "!type topics.txt\n",
      "!type topics.txt\n",
      "!type topics.txt\n",
      "topics = !type topics.txt\n",
      "type(topics)\n",
      "topics\n",
      "filename = 'topics.txt'\n",
      "!type {filename}\n",
      "%pwd\n",
      "%history\n",
      "%lsmagic\n",
      "%who\n",
      "%%writefile libraries.txt\n",
      "scipy\n",
      "numpy\n",
      "pandas\n",
      "%%capture result\n",
      "!type topics.txt\n",
      "type(result)\n",
      "result.output\n",
      "result.stdout\n",
      "print(result.stdout)\n",
      "%%timeit -n 10\n",
      "lst = []\n",
      "for n in range(1,1000):\n",
      "    lst.append(n*n)\n",
      "%%timeit -n 10\n",
      "lst = [n * n for n in range(1,1000)]\n",
      "%%timeit -n 10\n",
      "lst = []\n",
      "for n in range(1,10000):\n",
      "    lst.append(n*n)\n",
      "%%timeit -n 10\n",
      "lst = [n * n for n in range(1,10000)]\n",
      "In\n",
      "Out\n",
      "Out[23]\n",
      "Out[23]\n",
      "print(\"Welcome to Notebook\")\n",
      "for n in range(1,10):\n",
      "     print(n*n, end =  ' ')\n",
      "import datetime\n",
      "cd = datetime.datetime.now()\n",
      "cd\n",
      "cd.month\n",
      "cd.strptime?\n",
      "!dir\n",
      "!type topics.txt\n",
      "topics = !type topics.txt\n",
      "type(topics)\n",
      "topics\n",
      "filename = 'topics.txt'\n",
      "!type {filename}\n",
      "%pwd\n",
      "%history\n"
     ]
    }
   ],
   "source": [
    "%history"
   ]
  },
  {
   "cell_type": "code",
   "execution_count": 47,
   "metadata": {
    "jupyter": {
     "source_hidden": true
    }
   },
   "outputs": [
    {
     "name": "stdout",
     "output_type": "stream",
     "text": [
      "Overwriting libraries.txt\n"
     ]
    }
   ],
   "source": [
    "%%writefile libraries.txt\n",
    "scipy\n",
    "numpy\n",
    "pandas"
   ]
  },
  {
   "cell_type": "code",
   "execution_count": 48,
   "metadata": {},
   "outputs": [
    {
     "name": "stdout",
     "output_type": "stream",
     "text": [
      "cd\t datetime\t filename\t n\t result\t topics\t \n"
     ]
    }
   ],
   "source": [
    "%who"
   ]
  },
  {
   "cell_type": "code",
   "execution_count": 49,
   "metadata": {},
   "outputs": [],
   "source": [
    "%%capture result\n",
    "!type topics.txt"
   ]
  },
  {
   "cell_type": "code",
   "execution_count": 50,
   "metadata": {},
   "outputs": [
    {
     "data": {
      "text/plain": [
       "IPython.utils.capture.CapturedIO"
      ]
     },
     "execution_count": 50,
     "metadata": {},
     "output_type": "execute_result"
    }
   ],
   "source": [
    "type(result)"
   ]
  },
  {
   "cell_type": "code",
   "execution_count": 51,
   "metadata": {},
   "outputs": [
    {
     "name": "stdout",
     "output_type": "stream",
     "text": [
      "Statistics\n",
      "Numpy\n",
      "Pandas\n",
      "Matplotlib\n",
      "Seaborn\n",
      "SkLearn\n",
      "\n"
     ]
    }
   ],
   "source": [
    "print(result.stdout)"
   ]
  },
  {
   "cell_type": "code",
   "execution_count": 60,
   "metadata": {},
   "outputs": [],
   "source": [
    "#Out[51]"
   ]
  },
  {
   "cell_type": "code",
   "execution_count": 53,
   "metadata": {},
   "outputs": [
    {
     "name": "stdout",
     "output_type": "stream",
     "text": [
      "5.19 ms ± 1.91 ms per loop (mean ± std. dev. of 7 runs, 10 loops each)\n"
     ]
    }
   ],
   "source": [
    "%%timeit -n 10\n",
    "lst = []\n",
    "for n in range(1,10000):\n",
    "    lst.append(n*n)"
   ]
  },
  {
   "cell_type": "code",
   "execution_count": 54,
   "metadata": {},
   "outputs": [
    {
     "name": "stdout",
     "output_type": "stream",
     "text": [
      "2.11 ms ± 800 µs per loop (mean ± std. dev. of 7 runs, 10 loops each)\n"
     ]
    }
   ],
   "source": [
    "%%timeit -n 10\n",
    "lst = [n * n for n in range(1,10000)]    "
   ]
  },
  {
   "cell_type": "code",
   "execution_count": 55,
   "metadata": {},
   "outputs": [
    {
     "data": {
      "text/plain": [
       "['',\n",
       " '[MarkDown](#markdown)',\n",
       " '[MarkDown](#markdown)',\n",
       " '<img src=\"http://www.srikanthtechnologies.com/logo.jpg\"/>',\n",
       " \"get_ipython().system('dir')\",\n",
       " \"get_ipython().system('ls')\",\n",
       " \"get_ipython().system('dir')\",\n",
       " \"get_ipython().system('type topics.txt')\",\n",
       " \"get_ipython().system('type topics.txt')\",\n",
       " \"get_ipython().system('type topics.txt')\",\n",
       " \"topics = get_ipython().getoutput('type topics.txt')\",\n",
       " 'type(topics)',\n",
       " 'topics',\n",
       " \"filename = 'topics.txt'\\nget_ipython().system('type {filename}')\",\n",
       " \"get_ipython().run_line_magic('pwd', '')\",\n",
       " \"get_ipython().run_line_magic('history', '')\",\n",
       " \"get_ipython().run_line_magic('lsmagic', '')\",\n",
       " \"get_ipython().run_line_magic('who', '')\",\n",
       " \"get_ipython().run_cell_magic('writefile', 'libraries.txt', 'scipy\\\\nnumpy\\\\npandas\\\\n')\",\n",
       " \"get_ipython().run_cell_magic('capture', 'result', '!type topics.txt\\\\n')\",\n",
       " 'type(result)',\n",
       " 'result.output',\n",
       " 'result.stdout',\n",
       " 'print(result.stdout)',\n",
       " \"get_ipython().run_cell_magic('timeit', '-n 10', 'lst = []\\\\nfor n in range(1,1000):\\\\n    lst.append(n*n)\\\\n')\",\n",
       " \"get_ipython().run_cell_magic('timeit', '-n 10', 'lst = [n * n for n in range(1,1000)]    \\\\n')\",\n",
       " \"get_ipython().run_cell_magic('timeit', '-n 10', 'lst = []\\\\nfor n in range(1,10000):\\\\n    lst.append(n*n)\\\\n')\",\n",
       " \"get_ipython().run_cell_magic('timeit', '-n 10', 'lst = [n * n for n in range(1,10000)]    \\\\n')\",\n",
       " 'In',\n",
       " 'Out',\n",
       " 'Out[23]',\n",
       " 'Out[23]',\n",
       " 'print(\"Welcome to Notebook\")',\n",
       " \"for n in range(1,10):\\n     print(n*n, end =  ' ')\",\n",
       " 'import datetime',\n",
       " 'cd = datetime.datetime.now()',\n",
       " 'cd',\n",
       " 'cd.month',\n",
       " \"get_ipython().run_line_magic('pinfo', 'cd.strptime')\",\n",
       " \"get_ipython().system('dir')\",\n",
       " \"get_ipython().system('type topics.txt')\",\n",
       " \"topics = get_ipython().getoutput('type topics.txt')\",\n",
       " 'type(topics)',\n",
       " 'topics',\n",
       " \"filename = 'topics.txt'\\nget_ipython().system('type {filename}')\",\n",
       " \"get_ipython().run_line_magic('pwd', '')\",\n",
       " \"get_ipython().run_line_magic('history', '')\",\n",
       " \"get_ipython().run_cell_magic('writefile', 'libraries.txt', 'scipy\\\\nnumpy\\\\npandas\\\\n')\",\n",
       " \"get_ipython().run_line_magic('who', '')\",\n",
       " \"get_ipython().run_cell_magic('capture', 'result', '!type topics.txt\\\\n')\",\n",
       " 'type(result)',\n",
       " 'print(result.stdout)',\n",
       " '#Out[23]',\n",
       " \"get_ipython().run_cell_magic('timeit', '-n 10', 'lst = []\\\\nfor n in range(1,10000):\\\\n    lst.append(n*n)\\\\n')\",\n",
       " \"get_ipython().run_cell_magic('timeit', '-n 10', 'lst = [n * n for n in range(1,10000)]    \\\\n')\",\n",
       " 'In']"
      ]
     },
     "execution_count": 55,
     "metadata": {},
     "output_type": "execute_result"
    }
   ],
   "source": [
    "In"
   ]
  },
  {
   "cell_type": "code",
   "execution_count": 56,
   "metadata": {},
   "outputs": [
    {
     "data": {
      "text/plain": [
       "{11: IPython.utils.text.SList,\n",
       " 12: ['Statistics', 'Numpy', 'Pandas', 'Matplotlib', 'Seaborn', 'SkLearn'],\n",
       " 14: 'D:\\\\classroom\\\\feb4',\n",
       " 16: Available line magics:\n",
       "%alias  %alias_magic  %autoawait  %autocall  %automagic  %autosave  %bookmark  %cd  %clear  %cls  %colors  %conda  %config  %connect_info  %copy  %ddir  %debug  %dhist  %dirs  %doctest_mode  %echo  %ed  %edit  %env  %gui  %hist  %history  %killbgscripts  %ldir  %less  %load  %load_ext  %loadpy  %logoff  %logon  %logstart  %logstate  %logstop  %ls  %lsmagic  %macro  %magic  %matplotlib  %mkdir  %more  %notebook  %page  %pastebin  %pdb  %pdef  %pdoc  %pfile  %pinfo  %pinfo2  %pip  %popd  %pprint  %precision  %prun  %psearch  %psource  %pushd  %pwd  %pycat  %pylab  %qtconsole  %quickref  %recall  %rehashx  %reload_ext  %ren  %rep  %rerun  %reset  %reset_selective  %rmdir  %run  %save  %sc  %set_env  %store  %sx  %system  %tb  %time  %timeit  %unalias  %unload_ext  %who  %who_ls  %whos  %xdel  %xmode\n",
       "\n",
       "Available cell magics:\n",
       "%%!  %%HTML  %%SVG  %%bash  %%capture  %%cmd  %%debug  %%file  %%html  %%javascript  %%js  %%latex  %%markdown  %%perl  %%prun  %%pypy  %%python  %%python2  %%python3  %%ruby  %%script  %%sh  %%svg  %%sx  %%system  %%time  %%timeit  %%writefile\n",
       "\n",
       "Automagic is ON, % prefix IS NOT needed for line magics.,\n",
       " 20: IPython.utils.capture.CapturedIO,\n",
       " 22: 'Statistics\\nNumpy\\nPandas\\nMatplotlib\\nSeaborn\\nSkLearn\\n',\n",
       " 28: ['',\n",
       "  '[MarkDown](#markdown)',\n",
       "  '[MarkDown](#markdown)',\n",
       "  '<img src=\"http://www.srikanthtechnologies.com/logo.jpg\"/>',\n",
       "  \"get_ipython().system('dir')\",\n",
       "  \"get_ipython().system('ls')\",\n",
       "  \"get_ipython().system('dir')\",\n",
       "  \"get_ipython().system('type topics.txt')\",\n",
       "  \"get_ipython().system('type topics.txt')\",\n",
       "  \"get_ipython().system('type topics.txt')\",\n",
       "  \"topics = get_ipython().getoutput('type topics.txt')\",\n",
       "  'type(topics)',\n",
       "  'topics',\n",
       "  \"filename = 'topics.txt'\\nget_ipython().system('type {filename}')\",\n",
       "  \"get_ipython().run_line_magic('pwd', '')\",\n",
       "  \"get_ipython().run_line_magic('history', '')\",\n",
       "  \"get_ipython().run_line_magic('lsmagic', '')\",\n",
       "  \"get_ipython().run_line_magic('who', '')\",\n",
       "  \"get_ipython().run_cell_magic('writefile', 'libraries.txt', 'scipy\\\\nnumpy\\\\npandas\\\\n')\",\n",
       "  \"get_ipython().run_cell_magic('capture', 'result', '!type topics.txt\\\\n')\",\n",
       "  'type(result)',\n",
       "  'result.output',\n",
       "  'result.stdout',\n",
       "  'print(result.stdout)',\n",
       "  \"get_ipython().run_cell_magic('timeit', '-n 10', 'lst = []\\\\nfor n in range(1,1000):\\\\n    lst.append(n*n)\\\\n')\",\n",
       "  \"get_ipython().run_cell_magic('timeit', '-n 10', 'lst = [n * n for n in range(1,1000)]    \\\\n')\",\n",
       "  \"get_ipython().run_cell_magic('timeit', '-n 10', 'lst = []\\\\nfor n in range(1,10000):\\\\n    lst.append(n*n)\\\\n')\",\n",
       "  \"get_ipython().run_cell_magic('timeit', '-n 10', 'lst = [n * n for n in range(1,10000)]    \\\\n')\",\n",
       "  'In',\n",
       "  'Out',\n",
       "  'Out[23]',\n",
       "  'Out[23]',\n",
       "  'print(\"Welcome to Notebook\")',\n",
       "  \"for n in range(1,10):\\n     print(n*n, end =  ' ')\",\n",
       "  'import datetime',\n",
       "  'cd = datetime.datetime.now()',\n",
       "  'cd',\n",
       "  'cd.month',\n",
       "  \"get_ipython().run_line_magic('pinfo', 'cd.strptime')\",\n",
       "  \"get_ipython().system('dir')\",\n",
       "  \"get_ipython().system('type topics.txt')\",\n",
       "  \"topics = get_ipython().getoutput('type topics.txt')\",\n",
       "  'type(topics)',\n",
       "  'topics',\n",
       "  \"filename = 'topics.txt'\\nget_ipython().system('type {filename}')\",\n",
       "  \"get_ipython().run_line_magic('pwd', '')\",\n",
       "  \"get_ipython().run_line_magic('history', '')\",\n",
       "  \"get_ipython().run_cell_magic('writefile', 'libraries.txt', 'scipy\\\\nnumpy\\\\npandas\\\\n')\",\n",
       "  \"get_ipython().run_line_magic('who', '')\",\n",
       "  \"get_ipython().run_cell_magic('capture', 'result', '!type topics.txt\\\\n')\",\n",
       "  'type(result)',\n",
       "  'print(result.stdout)',\n",
       "  '#Out[23]',\n",
       "  \"get_ipython().run_cell_magic('timeit', '-n 10', 'lst = []\\\\nfor n in range(1,10000):\\\\n    lst.append(n*n)\\\\n')\",\n",
       "  \"get_ipython().run_cell_magic('timeit', '-n 10', 'lst = [n * n for n in range(1,10000)]    \\\\n')\",\n",
       "  'In',\n",
       "  'Out'],\n",
       " 36: datetime.datetime(2021, 2, 9, 20, 50, 16, 237903),\n",
       " 37: 2,\n",
       " 42: IPython.utils.text.SList,\n",
       " 43: ['Statistics', 'Numpy', 'Pandas', 'Matplotlib', 'Seaborn', 'SkLearn'],\n",
       " 45: 'D:\\\\classroom\\\\feb4',\n",
       " 50: IPython.utils.capture.CapturedIO,\n",
       " 55: ['',\n",
       "  '[MarkDown](#markdown)',\n",
       "  '[MarkDown](#markdown)',\n",
       "  '<img src=\"http://www.srikanthtechnologies.com/logo.jpg\"/>',\n",
       "  \"get_ipython().system('dir')\",\n",
       "  \"get_ipython().system('ls')\",\n",
       "  \"get_ipython().system('dir')\",\n",
       "  \"get_ipython().system('type topics.txt')\",\n",
       "  \"get_ipython().system('type topics.txt')\",\n",
       "  \"get_ipython().system('type topics.txt')\",\n",
       "  \"topics = get_ipython().getoutput('type topics.txt')\",\n",
       "  'type(topics)',\n",
       "  'topics',\n",
       "  \"filename = 'topics.txt'\\nget_ipython().system('type {filename}')\",\n",
       "  \"get_ipython().run_line_magic('pwd', '')\",\n",
       "  \"get_ipython().run_line_magic('history', '')\",\n",
       "  \"get_ipython().run_line_magic('lsmagic', '')\",\n",
       "  \"get_ipython().run_line_magic('who', '')\",\n",
       "  \"get_ipython().run_cell_magic('writefile', 'libraries.txt', 'scipy\\\\nnumpy\\\\npandas\\\\n')\",\n",
       "  \"get_ipython().run_cell_magic('capture', 'result', '!type topics.txt\\\\n')\",\n",
       "  'type(result)',\n",
       "  'result.output',\n",
       "  'result.stdout',\n",
       "  'print(result.stdout)',\n",
       "  \"get_ipython().run_cell_magic('timeit', '-n 10', 'lst = []\\\\nfor n in range(1,1000):\\\\n    lst.append(n*n)\\\\n')\",\n",
       "  \"get_ipython().run_cell_magic('timeit', '-n 10', 'lst = [n * n for n in range(1,1000)]    \\\\n')\",\n",
       "  \"get_ipython().run_cell_magic('timeit', '-n 10', 'lst = []\\\\nfor n in range(1,10000):\\\\n    lst.append(n*n)\\\\n')\",\n",
       "  \"get_ipython().run_cell_magic('timeit', '-n 10', 'lst = [n * n for n in range(1,10000)]    \\\\n')\",\n",
       "  'In',\n",
       "  'Out',\n",
       "  'Out[23]',\n",
       "  'Out[23]',\n",
       "  'print(\"Welcome to Notebook\")',\n",
       "  \"for n in range(1,10):\\n     print(n*n, end =  ' ')\",\n",
       "  'import datetime',\n",
       "  'cd = datetime.datetime.now()',\n",
       "  'cd',\n",
       "  'cd.month',\n",
       "  \"get_ipython().run_line_magic('pinfo', 'cd.strptime')\",\n",
       "  \"get_ipython().system('dir')\",\n",
       "  \"get_ipython().system('type topics.txt')\",\n",
       "  \"topics = get_ipython().getoutput('type topics.txt')\",\n",
       "  'type(topics)',\n",
       "  'topics',\n",
       "  \"filename = 'topics.txt'\\nget_ipython().system('type {filename}')\",\n",
       "  \"get_ipython().run_line_magic('pwd', '')\",\n",
       "  \"get_ipython().run_line_magic('history', '')\",\n",
       "  \"get_ipython().run_cell_magic('writefile', 'libraries.txt', 'scipy\\\\nnumpy\\\\npandas\\\\n')\",\n",
       "  \"get_ipython().run_line_magic('who', '')\",\n",
       "  \"get_ipython().run_cell_magic('capture', 'result', '!type topics.txt\\\\n')\",\n",
       "  'type(result)',\n",
       "  'print(result.stdout)',\n",
       "  '#Out[23]',\n",
       "  \"get_ipython().run_cell_magic('timeit', '-n 10', 'lst = []\\\\nfor n in range(1,10000):\\\\n    lst.append(n*n)\\\\n')\",\n",
       "  \"get_ipython().run_cell_magic('timeit', '-n 10', 'lst = [n * n for n in range(1,10000)]    \\\\n')\",\n",
       "  'In',\n",
       "  'Out']}"
      ]
     },
     "execution_count": 56,
     "metadata": {},
     "output_type": "execute_result"
    }
   ],
   "source": [
    "Out"
   ]
  },
  {
   "cell_type": "code",
   "execution_count": null,
   "metadata": {},
   "outputs": [],
   "source": []
  }
 ],
 "metadata": {
  "kernelspec": {
   "display_name": "Python 3",
   "language": "python",
   "name": "python3"
  },
  "language_info": {
   "codemirror_mode": {
    "name": "ipython",
    "version": 3
   },
   "file_extension": ".py",
   "mimetype": "text/x-python",
   "name": "python",
   "nbconvert_exporter": "python",
   "pygments_lexer": "ipython3",
   "version": "3.8.5"
  }
 },
 "nbformat": 4,
 "nbformat_minor": 4
}
